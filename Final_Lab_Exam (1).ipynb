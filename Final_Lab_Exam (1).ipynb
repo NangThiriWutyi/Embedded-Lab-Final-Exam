{
  "nbformat": 4,
  "nbformat_minor": 0,
  "metadata": {
    "colab": {
      "provenance": []
    },
    "kernelspec": {
      "name": "python3",
      "display_name": "Python 3"
    },
    "language_info": {
      "name": "python"
    }
  },
  "cells": [
    {
      "cell_type": "code",
      "source": [
        "import math\n",
        "\n",
        "def measured_temperature(t, tau, zeta):\n",
        "    t *= 0.1  # Adjusting time for practical measurement\n",
        "    if t <= tau:\n",
        "        return 100 * (1 - math.exp(-zeta * t)) / (tau * (1 - zeta**2)) + math.sin(math.sqrt(1 - zeta**2) * math.log((t + 0.0001) / tau)) / (tau * (1 - zeta**2))\n",
        "    else:\n",
        "        return 100 * (1 - math.exp(-zeta * t)) / (tau * (1 - zeta**2))\n",
        "\n",
        "def pid_controller(Kp, Ki, Kd, error, prev_error, prev2_error):\n",
        "    delta_u = Kp * (error - prev_error) + Ki * error + Kd * (error - 2 * prev_error + prev2_error)\n",
        "    return delta_u\n",
        "\n",
        "if __name__ == \"__main__\":\n",
        "    tau = 5\n",
        "    zeta = 0.55\n",
        "    Kp = 8\n",
        "    Ki = 5\n",
        "    Kd = 1.6\n",
        "\n",
        "    prev_error = 0\n",
        "    prev2_error = 0\n",
        "    u = 800\n",
        "\n",
        "    # Calculate the measured temperature for all time steps\n",
        "    measured_temp = [measured_temperature(t, tau, zeta) for t in range(41)]\n",
        "\n",
        "    print(\"Time(Sec)\\tMeas.Temp(°C)\\t𝜀\\t∆𝒖\\t𝒖(Ctrl Signal 𝒖)\")\n",
        "    for t, temp in enumerate(measured_temp):\n",
        "        error = 100 - temp\n",
        "        delta_u = pid_controller(Kp, Ki, Kd, error, prev_error, prev2_error)\n",
        "        u += delta_u\n",
        "        print(f\"{t * 0.1:.1f}\\t\\t{temp:.2f}\\t\\t{error:.2f}\\t{delta_u:.2f}\\t{u:.2f}\")\n",
        "\n",
        "        prev2_error = prev_error\n",
        "        prev_error = error\n"
      ],
      "metadata": {
        "colab": {
          "base_uri": "https://localhost:8080/"
        },
        "id": "-pSXvJScp4ou",
        "outputId": "e37560de-50f7-4f68-f9d9-4b0d43545c76"
      },
      "execution_count": 23,
      "outputs": [
        {
          "output_type": "stream",
          "name": "stdout",
          "text": [
            "Time(Sec)\tMeas.Temp(°C)\t𝜀\t∆𝒖\t𝒖(Ctrl Signal 𝒖)\n",
            "0.0\t\t-0.11\t\t100.11\t1461.59\t2261.59\n",
            "0.1\t\t1.57\t\t98.43\t315.86\t2577.45\n",
            "0.2\t\t2.86\t\t97.14\t475.99\t3053.43\n",
            "0.3\t\t4.16\t\t95.84\t468.84\t3522.27\n",
            "0.4\t\t5.42\t\t94.58\t462.91\t3985.17\n",
            "0.5\t\t6.62\t\t93.38\t457.29\t4442.46\n",
            "0.6\t\t7.78\t\t92.22\t451.97\t4894.43\n",
            "0.7\t\t8.88\t\t91.12\t446.92\t5341.35\n",
            "0.8\t\t9.92\t\t90.08\t442.14\t5783.48\n",
            "0.9\t\t10.91\t\t89.09\t437.60\t6221.09\n",
            "1.0\t\t11.85\t\t88.15\t433.31\t6654.39\n",
            "1.1\t\t12.74\t\t87.26\t429.24\t7083.63\n",
            "1.2\t\t13.59\t\t86.41\t425.38\t7509.01\n",
            "1.3\t\t14.39\t\t85.61\t421.72\t7930.73\n",
            "1.4\t\t15.15\t\t84.85\t418.26\t8348.99\n",
            "1.5\t\t15.87\t\t84.13\t414.98\t8763.98\n",
            "1.6\t\t16.55\t\t83.45\t411.88\t9175.85\n",
            "1.7\t\t17.19\t\t82.81\t408.94\t9584.79\n",
            "1.8\t\t17.80\t\t82.20\t406.15\t9990.94\n",
            "1.9\t\t18.38\t\t81.62\t403.51\t10394.45\n",
            "2.0\t\t18.93\t\t81.07\t401.01\t10795.46\n",
            "2.1\t\t19.45\t\t80.55\t398.64\t11194.10\n",
            "2.2\t\t19.94\t\t80.06\t396.40\t11590.50\n",
            "2.3\t\t20.41\t\t79.59\t394.28\t11984.77\n",
            "2.4\t\t20.85\t\t79.15\t392.26\t12377.04\n",
            "2.5\t\t21.27\t\t78.73\t390.36\t12767.39\n",
            "2.6\t\t21.66\t\t78.34\t388.55\t13155.95\n",
            "2.7\t\t22.04\t\t77.96\t386.84\t13542.79\n",
            "2.8\t\t22.39\t\t77.61\t385.22\t13928.01\n",
            "2.9\t\t22.73\t\t77.27\t383.69\t14311.70\n",
            "3.0\t\t23.05\t\t76.95\t382.24\t14693.94\n",
            "3.1\t\t23.35\t\t76.65\t380.86\t15074.80\n",
            "3.2\t\t23.64\t\t76.36\t379.56\t15454.36\n",
            "3.3\t\t23.91\t\t76.09\t378.32\t15832.68\n",
            "3.4\t\t24.16\t\t75.84\t377.15\t16209.83\n",
            "3.5\t\t24.41\t\t75.59\t376.04\t16585.87\n",
            "3.6\t\t24.64\t\t75.36\t374.99\t16960.86\n",
            "3.7\t\t24.86\t\t75.14\t374.00\t17334.86\n",
            "3.8\t\t25.06\t\t74.94\t373.05\t17707.91\n",
            "3.9\t\t25.26\t\t74.74\t372.16\t18080.08\n",
            "4.0\t\t25.44\t\t74.56\t371.31\t18451.39\n"
          ]
        }
      ]
    },
    {
      "cell_type": "code",
      "execution_count": 17,
      "metadata": {
        "colab": {
          "base_uri": "https://localhost:8080/"
        },
        "id": "aBBo--WdNs-I",
        "outputId": "6c3fc40f-2ab0-4006-a717-657c41617891"
      },
      "outputs": [
        {
          "output_type": "stream",
          "name": "stdout",
          "text": [
            "Enter a number less than 10000: 999\n",
            "All pairs within input range:\n",
            "3 5\n",
            "5 7\n",
            "11 13\n",
            "17 19\n",
            "29 31\n",
            "41 43\n",
            "59 61\n",
            "71 73\n",
            "101 103\n",
            "107 109\n",
            "137 139\n",
            "149 151\n",
            "179 181\n",
            "191 193\n",
            "197 199\n",
            "227 229\n",
            "239 241\n",
            "269 271\n",
            "281 283\n",
            "311 313\n",
            "347 349\n",
            "419 421\n",
            "431 433\n",
            "461 463\n",
            "521 523\n",
            "569 571\n",
            "599 601\n",
            "617 619\n",
            "641 643\n",
            "659 661\n",
            "809 811\n",
            "821 823\n",
            "827 829\n",
            "857 859\n",
            "881 883\n"
          ]
        }
      ],
      "source": [
        "def is_prime(n):\n",
        "    if n <= 1:\n",
        "        return False\n",
        "    if n <= 3:\n",
        "        return True\n",
        "    if n % 2 == 0 or n % 3 == 0:\n",
        "        return False\n",
        "    i = 5\n",
        "    while i * i <= n:\n",
        "        if n % i == 0 or n % (i + 2) == 0:\n",
        "            return False\n",
        "        i += 6\n",
        "    return True\n",
        "\n",
        "def prime_pairs(n):\n",
        "    prime_list = []\n",
        "    for i in range(2, n):\n",
        "        if is_prime(i) and is_prime(i + 2):\n",
        "            prime_list.append((i, i + 2))\n",
        "    return prime_list\n",
        "\n",
        "if __name__ == \"__main__\":\n",
        "    num = int(input(\"Enter a number less than 10000: \"))\n",
        "    if num >= 10000:\n",
        "        print(\"Number should be less than 10000\")\n",
        "    else:\n",
        "        print(\"All pairs within input range:\")\n",
        "        pairs = prime_pairs(num)\n",
        "        for pair in pairs:\n",
        "            print(pair[0], pair[1])\n"
      ]
    },
    {
      "cell_type": "code",
      "source": [],
      "metadata": {
        "id": "mfcQcNnElQ8l"
      },
      "execution_count": null,
      "outputs": []
    }
  ]
}